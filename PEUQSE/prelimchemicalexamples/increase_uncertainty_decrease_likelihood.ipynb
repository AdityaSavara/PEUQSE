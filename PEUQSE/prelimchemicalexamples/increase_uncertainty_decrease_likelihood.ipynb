{
 "cells": [
  {
   "cell_type": "code",
   "execution_count": 4,
   "metadata": {},
   "outputs": [],
   "source": [
    "import matplotlib\n",
    "matplotlib.use('Agg')\n",
    "import numpy as np\n",
    "import matplotlib.pyplot as plt\n",
    "from scipy.stats import multivariate_normal\n",
    "\n",
    "x = np.linspace(-5,5,100)\n",
    "y_less_uncertain = multivariate_normal.pdf(x, mean=0, cov=1)\n",
    "y_more_uncertain = multivariate_normal.pdf(x, mean=0, cov=4)\n",
    "fig, ax = plt.subplots()\n",
    "ax.plot(x, y_more_uncertain, 'b', label='more uncertain')\n",
    "ax.plot(x, y_less_uncertain, 'g', label='less uncertain')\n",
    "ax.plot(x[48],y_more_uncertain[48], 'r*')\n",
    "ax.plot(x[48],y_less_uncertain[48], 'r*')\n",
    "ax.legend(loc='best')\n",
    "ax.set_xlabel(r'$x$')\n",
    "ax.set_ylabel(r'$p(x)$')\n",
    "ax.grid()\n",
    "fig.savefig('increase_uncertainty_decrease_likelihood.png', dpi=220)"
   ]
  },
  {
   "cell_type": "code",
   "execution_count": null,
   "metadata": {},
   "outputs": [],
   "source": []
  }
 ],
 "metadata": {
  "kernelspec": {
   "display_name": "Python 3",
   "language": "python",
   "name": "python3"
  },
  "language_info": {
   "codemirror_mode": {
    "name": "ipython",
    "version": 3
   },
   "file_extension": ".py",
   "mimetype": "text/x-python",
   "name": "python",
   "nbconvert_exporter": "python",
   "pygments_lexer": "ipython3",
   "version": "3.7.1"
  }
 },
 "nbformat": 4,
 "nbformat_minor": 2
}
